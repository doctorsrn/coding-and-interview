{
 "cells": [
  {
   "cell_type": "markdown",
   "metadata": {},
   "source": [
    "# Leetcode 经典题刷题记录\n",
    "题目目录：https://www.nowcoder.com/ta/leetcode\n",
    "\n",
    "在线评测：https://leetcode.com/problemset/all/"
   ]
  },
  {
   "cell_type": "markdown",
   "metadata": {},
   "source": [
    "# \t1. [Minimum Depth of Binary Tree](https://leetcode.com/problems/minimum-depth-of-binary-tree/)\n",
    "求给定二叉树的最小深度。最小深度是指树的根结点到最近叶子结点的最短路径上结点的数量。\n",
    "Given a binary tree, find its minimum depth.The minimum depth is the number of nodes along the shortest path from the root node down to the nearest leaf node.\n",
    "Note: A leaf is a node with no children.\n",
    "\n",
    "方法：递归法实现。注意最小深度的定义，是从根节点到最近的叶节点，叶节点的定义是左右子节点均为空。"
   ]
  },
  {
   "cell_type": "code",
   "execution_count": 6,
   "metadata": {},
   "outputs": [],
   "source": [
    "# Definition for a binary tree node.\n",
    "# class TreeNode(object):\n",
    "#     def __init__(self, x):\n",
    "#         self.val = x\n",
    "#         self.left = None\n",
    "#         self.right = None\n",
    "\n",
    "class Solution(object):\n",
    "    def minDepth(self, root):\n",
    "        \"\"\"\n",
    "        :type root: TreeNode\n",
    "        :rtype: int\n",
    "        \"\"\"\n",
    "        if root is None:\n",
    "            return 0\n",
    "        if root.left and root.right:\n",
    "            return 1+min(self.minDepth(root.left), self.minDepth(root.right))\n",
    "        else:\n",
    "            return 1+max(self.minDepth(root.left), self.minDepth(root.right))"
   ]
  },
  {
   "cell_type": "code",
   "execution_count": 7,
   "metadata": {},
   "outputs": [],
   "source": [
    "# Definition for a binary tree node.\n",
    "# class TreeNode:\n",
    "#     def __init__(self, x):\n",
    "#         self.val = x\n",
    "#         self.left = None\n",
    "#         self.right = None\n",
    "\n",
    "class Solution:\n",
    "    def minDepth(self, root) -> int:\n",
    "        if root is None:\n",
    "            return 0\n",
    "        return self.recursion_min(root)\n",
    "    \n",
    "    def recursion_min(self, root):\n",
    "        if not root.left and not root.right: # 递归终止条件是遍历至叶节点\n",
    "            return 1\n",
    "        if root.left and root.right: # 如果当前节点的左右节点均存在，则递归取最小深度\n",
    "            return 1+min(self.recursion_min(root.left), self.recursion_min(root.right))\n",
    "        elif root.left: # 如果只有左子节点存在，则继续遍历左子节点至叶节点\n",
    "            return 1+self.recursion_min(root.left)\n",
    "        else: # 如果只有右子节点存在，则继续遍历右子节点至叶节点\n",
    "            return 1+self.recursion_min(root.right)"
   ]
  },
  {
   "cell_type": "markdown",
   "metadata": {},
   "source": [
    "# 2.[Evaluate Reverse Polish Notation](https://leetcode.com/problems/evaluate-reverse-polish-notation/submissions/)\n",
    "计算逆波兰式（后缀表达式）的值\n",
    "运算符仅包含\"+\",\"-\",\"*\"和\"/\"，被操作数可能是整数或其他表达式\n",
    "例如：[\"2\", \"1\", \"+\", \"3\", \"*\"] -> ((2 + 1) * 3) -> 9↵  [\"4\", \"13\", \"5\", \"/\", \"+\"] -> (4 + (13 / 5)) -> 6\n",
    "\n",
    "Evaluate the value of an arithmetic expression in Reverse Polish Notation.\n",
    "Valid operators are +, -, *, /. Each operand may be an integer or another expression.\n",
    "\n",
    "Note:\n",
    "Division between two integers should truncate toward zero.\n",
    "The given RPN expression is always valid. That means the expression would always evaluate to a result and there won't be any divide by zero operation."
   ]
  },
  {
   "cell_type": "code",
   "execution_count": 17,
   "metadata": {},
   "outputs": [
    {
     "data": {
      "text/plain": [
       "22"
      ]
     },
     "execution_count": 17,
     "metadata": {},
     "output_type": "execute_result"
    }
   ],
   "source": [
    "class Solution:\n",
    "    def evalRPN(self, tokens) -> int:\n",
    "        if tokens is None or len(tokens) < 1:\n",
    "            return 0\n",
    "        \n",
    "        heap = []\n",
    "        op_list = \"+-*/\"\n",
    "\n",
    "        for i in tokens:\n",
    "            if i in op_list:\n",
    "                right = heap.pop()\n",
    "                left = heap.pop()\n",
    "                \n",
    "                if i is \"+\":\n",
    "                    heap.append(left+right)\n",
    "                elif i is \"-\":\n",
    "                    heap.append(left-right)\n",
    "                elif i is \"*\":\n",
    "                    heap.append(left*right)\n",
    "                else:\n",
    "                    heap.append(int(left/right))  # 除法结果向零取整\n",
    "            else:\n",
    "                heap.append(int(i))\n",
    "        return heap.pop()\n",
    "s = Solution()\n",
    "t = [\"10\",\"6\",\"9\",\"3\",\"+\",\"-11\",\"*\",\"/\",\"*\",\"17\",\"+\",\"5\",\"+\"]\n",
    "s.evalRPN(t)"
   ]
  },
  {
   "cell_type": "markdown",
   "metadata": {},
   "source": [
    "# 3. [max-points-on-a-line](https://leetcode.com/problems/max-points-on-a-line/)\n",
    "对于给定的n个位于同一二维平面上的点，求最多能有多少个点位于同一直线上\n",
    "\n",
    "Given n points on a 2D plane, find the maximum number of points that lie on the same straight line."
   ]
  },
  {
   "cell_type": "code",
   "execution_count": null,
   "metadata": {},
   "outputs": [],
   "source": []
  }
 ],
 "metadata": {
  "kernelspec": {
   "display_name": "Python 3",
   "language": "python",
   "name": "python3"
  },
  "language_info": {
   "codemirror_mode": {
    "name": "ipython",
    "version": 3
   },
   "file_extension": ".py",
   "mimetype": "text/x-python",
   "name": "python",
   "nbconvert_exporter": "python",
   "pygments_lexer": "ipython3",
   "version": "3.6.8"
  }
 },
 "nbformat": 4,
 "nbformat_minor": 2
}
