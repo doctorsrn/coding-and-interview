{
 "cells": [
  {
   "cell_type": "markdown",
   "metadata": {},
   "source": [
    "# Leetcode 经典题刷题记录\n",
    "题目目录：https://www.nowcoder.com/ta/leetcode\n",
    "\n",
    "在线评测：https://leetcode.com/problemset/all/"
   ]
  },
  {
   "cell_type": "markdown",
   "metadata": {},
   "source": [
    "# \t1. [Minimum Depth of Binary Tree](https://leetcode.com/problems/minimum-depth-of-binary-tree/)\n",
    "求给定二叉树的最小深度。最小深度是指树的根结点到最近叶子结点的最短路径上结点的数量。\n",
    "Given a binary tree, find its minimum depth.The minimum depth is the number of nodes along the shortest path from the root node down to the nearest leaf node.\n",
    "Note: A leaf is a node with no children.\n",
    "\n",
    "方法：递归法实现。注意最小深度的定义，是从根节点到最近的叶节点，叶节点的定义是左右子节点均为空。"
   ]
  },
  {
   "cell_type": "code",
   "execution_count": 6,
   "metadata": {},
   "outputs": [],
   "source": [
    "# Definition for a binary tree node.\n",
    "# class TreeNode(object):\n",
    "#     def __init__(self, x):\n",
    "#         self.val = x\n",
    "#         self.left = None\n",
    "#         self.right = None\n",
    "\n",
    "class Solution(object):\n",
    "    def minDepth(self, root):\n",
    "        \"\"\"\n",
    "        :type root: TreeNode\n",
    "        :rtype: int\n",
    "        \"\"\"\n",
    "        if root is None:\n",
    "            return 0\n",
    "        if root.left and root.right:\n",
    "            return 1+min(self.minDepth(root.left), self.minDepth(root.right))\n",
    "        else:\n",
    "            return 1+max(self.minDepth(root.left), self.minDepth(root.right))"
   ]
  },
  {
   "cell_type": "code",
   "execution_count": 7,
   "metadata": {},
   "outputs": [],
   "source": [
    "# Definition for a binary tree node.\n",
    "# class TreeNode:\n",
    "#     def __init__(self, x):\n",
    "#         self.val = x\n",
    "#         self.left = None\n",
    "#         self.right = None\n",
    "\n",
    "class Solution:\n",
    "    def minDepth(self, root) -> int:\n",
    "        if root is None:\n",
    "            return 0\n",
    "        return self.recursion_min(root)\n",
    "    \n",
    "    def recursion_min(self, root):\n",
    "        if not root.left and not root.right: # 递归终止条件是遍历至叶节点\n",
    "            return 1\n",
    "        if root.left and root.right: # 如果当前节点的左右节点均存在，则递归取最小深度\n",
    "            return 1+min(self.recursion_min(root.left), self.recursion_min(root.right))\n",
    "        elif root.left: # 如果只有左子节点存在，则继续遍历左子节点至叶节点\n",
    "            return 1+self.recursion_min(root.left)\n",
    "        else: # 如果只有右子节点存在，则继续遍历右子节点至叶节点\n",
    "            return 1+self.recursion_min(root.right)"
   ]
  },
  {
   "cell_type": "markdown",
   "metadata": {},
   "source": [
    "# 2.[Evaluate Reverse Polish Notation](https://leetcode.com/problems/evaluate-reverse-polish-notation/submissions/)\n",
    "计算逆波兰式（后缀表达式）的值\n",
    "运算符仅包含\"+\",\"-\",\"*\"和\"/\"，被操作数可能是整数或其他表达式\n",
    "例如：[\"2\", \"1\", \"+\", \"3\", \"*\"] -> ((2 + 1) * 3) -> 9↵  [\"4\", \"13\", \"5\", \"/\", \"+\"] -> (4 + (13 / 5)) -> 6\n",
    "\n",
    "Evaluate the value of an arithmetic expression in Reverse Polish Notation.\n",
    "Valid operators are +, -, *, /. Each operand may be an integer or another expression.\n",
    "\n",
    "Note:\n",
    "Division between two integers should truncate toward zero.\n",
    "The given RPN expression is always valid. That means the expression would always evaluate to a result and there won't be any divide by zero operation."
   ]
  },
  {
   "cell_type": "code",
   "execution_count": 17,
   "metadata": {},
   "outputs": [
    {
     "data": {
      "text/plain": [
       "22"
      ]
     },
     "execution_count": 17,
     "metadata": {},
     "output_type": "execute_result"
    }
   ],
   "source": [
    "class Solution:\n",
    "    def evalRPN(self, tokens) -> int:\n",
    "        if tokens is None or len(tokens) < 1:\n",
    "            return 0\n",
    "        \n",
    "        heap = []\n",
    "        op_list = \"+-*/\"\n",
    "\n",
    "        for i in tokens:\n",
    "            if i in op_list:\n",
    "                right = heap.pop()\n",
    "                left = heap.pop()\n",
    "                \n",
    "                if i is \"+\":\n",
    "                    heap.append(left+right)\n",
    "                elif i is \"-\":\n",
    "                    heap.append(left-right)\n",
    "                elif i is \"*\":\n",
    "                    heap.append(left*right)\n",
    "                else:\n",
    "                    heap.append(int(left/right))  # 除法结果向零取整\n",
    "            else:\n",
    "                heap.append(int(i))\n",
    "        return heap.pop()\n",
    "s = Solution()\n",
    "t = [\"10\",\"6\",\"9\",\"3\",\"+\",\"-11\",\"*\",\"/\",\"*\",\"17\",\"+\",\"5\",\"+\"]\n",
    "s.evalRPN(t)"
   ]
  },
  {
   "cell_type": "markdown",
   "metadata": {},
   "source": [
    "# 3. [max-points-on-a-line](https://leetcode.com/problems/max-points-on-a-line/)\n",
    "对于给定的n个位于同一二维平面上的点，求最多能有多少个点位于同一直线上\n",
    "\n",
    "Given n points on a 2D plane, find the maximum number of points that lie on the same straight line."
   ]
  },
  {
   "cell_type": "code",
   "execution_count": 33,
   "metadata": {},
   "outputs": [
    {
     "name": "stdout",
     "output_type": "stream",
     "text": [
      "4 0.2222222222222222222222222222 0.3333333333333333333333333334 [3, 1] [12, 3]\n",
      "4\n"
     ]
    },
    {
     "data": {
      "text/plain": [
       "4"
      ]
     },
     "execution_count": 33,
     "metadata": {},
     "output_type": "execute_result"
    }
   ],
   "source": [
    "# 以下解法不可取，存在问题：1，时间复杂度过大，为O(n^2);2,当斜率为小数时，存在精度不够的问题\n",
    "class Solution:\n",
    "    def maxPoints(self, points) -> int:\n",
    "        # 直线方程设为y=kx+b\n",
    "        if points is None or len(points) < 1:\n",
    "            return 0\n",
    "        if len(points) == 1:\n",
    "            return 1\n",
    "        \n",
    "        counts = len(points)\n",
    "        k, para = 0, 0\n",
    "        max_num = 0\n",
    "        for p1 in range(counts-1):\n",
    "            for p2 in range(p1+1, counts):\n",
    "                if points[p1][0] == points[p2][0]:  # x1 = x2\n",
    "                    k, para = 'v', points[p1][0] # 直线方程为x = x1\n",
    "                elif points[p1][1] == points[p2][1]: \n",
    "                    k, para = 0, points[p1][1]# 直线方程为x = x1\n",
    "                else:\n",
    "                    k = (points[p1][1]-points[p2][1]) / (points[p1][0] - points[p2][0])\n",
    "                    para = points[p1][1] - k * points[p1][0]\n",
    "                \n",
    "                # 遍历确定当前直线上的点个数\n",
    "                num = self.countOnLine(points, k, para)\n",
    "                if num > max_num:\n",
    "                    max_num = num\n",
    "                    print(max_num, k ,para,points[p1], points[p2])\n",
    "        print(max_num)\n",
    "        return max_num\n",
    "                    \n",
    "    def countOnLine(self, points, k, para):\n",
    "        count = 0\n",
    "        if k is 'v':  # 垂线\n",
    "            for p in points:\n",
    "                if p[0] == para:\n",
    "                    count += 1\n",
    "        elif k == 0: # 平行x轴\n",
    "            for p in points:\n",
    "                if p[1] == para:\n",
    "                    count += 1\n",
    "        else: # 直线方程为：y = kx+para\n",
    "            for p in points:\n",
    "                if abs(k * p[0] + para - p[1]) < 0.000001:\n",
    "                    count += 1\n",
    "        \n",
    "        return count\n",
    "s = Solution()\n",
    "#l = [[1,1],[3,2],[5,3],[4,1],[2,3],[1,4]]\n",
    "#l = [[0,0],[94911151,94911150],[94911152,94911151]]\n",
    "l = [[3,1],[12,3],[3,1],[-6,-1]]\n",
    "s.maxPoints(l)"
   ]
  },
  {
   "cell_type": "code",
   "execution_count": 40,
   "metadata": {},
   "outputs": [
    {
     "data": {
      "text/plain": [
       "4"
      ]
     },
     "execution_count": 40,
     "metadata": {},
     "output_type": "execute_result"
    }
   ],
   "source": [
    "# 参考解法：使用字典存储斜率，当斜率相同时则在一条直线上；解决浮点数精度问题，可以使用最大公约数来表示斜率\n",
    "# 以下解法不可取，存在问题：1，时间复杂度过大，为O(n^2);2,当斜率为小数时，存在精度不够的问题\n",
    "class Solution:\n",
    "    def maxPoints(self, points) -> int:\n",
    "        # 直线方程设为y=kx+b\n",
    "        if points is None or len(points) < 1:\n",
    "            return 0\n",
    "        if len(points) == 1:\n",
    "            return 1\n",
    "        \n",
    "        counts = len(points)\n",
    "        k, para = 0, 0\n",
    "        max_num = 0\n",
    "        for p1 in range(counts):\n",
    "            k_dict = {'v': 0} # 'v' 表示斜率无穷大，直线垂直X轴\n",
    "            same = 1\n",
    "            for p2 in range(counts):\n",
    "                if p1 == p2:\n",
    "                    continue\n",
    "                if points[p1][0] == points[p2][0] and points[p1][1] == points[p2][1]:\n",
    "                    # 对相同元素的累加\n",
    "                    same += 1\n",
    "                elif points[p1][0] == points[p2][0]:  # x1 = x2, y1 != y2\n",
    "                    k_dict['v'] += 1\n",
    "                else:\n",
    "                    dx, dy = points[p1][0] - points[p2][0], points[p1][1]-points[p2][1]\n",
    "                    d = self.gcd(dx, dy)\n",
    "                    if (dx//d, dy//d,) in k_dict:\n",
    "                        k_dict[(dx//d, dy//d)] += 1\n",
    "                    else:\n",
    "                        k_dict[(dx//d, dy//d)] = 1\n",
    "            max_num = max(max_num, max(k_dict.values())+same)\n",
    "        return max_num\n",
    "                    \n",
    "    def gcd(self, a, b):\n",
    "        # 求最大公约数\n",
    "        if b==0:\n",
    "            return a\n",
    "        return self.gcd(b, a%b)\n",
    "s = Solution()\n",
    "#l = [[1,1],[3,2],[5,3],[4,1],[2,3],[1,4]]\n",
    "#l = [[0,0],[94911151,94911150],[94911152,94911151]]\n",
    "l = [[3,1],[12,3],[3,1],[-6,-1]]\n",
    "s.maxPoints(l)"
   ]
  },
  {
   "cell_type": "code",
   "execution_count": null,
   "metadata": {},
   "outputs": [],
   "source": []
  }
 ],
 "metadata": {
  "kernelspec": {
   "display_name": "Python 3",
   "language": "python",
   "name": "python3"
  },
  "language_info": {
   "codemirror_mode": {
    "name": "ipython",
    "version": 3
   },
   "file_extension": ".py",
   "mimetype": "text/x-python",
   "name": "python",
   "nbconvert_exporter": "python",
   "pygments_lexer": "ipython3",
   "version": "3.6.8"
  }
 },
 "nbformat": 4,
 "nbformat_minor": 2
}
