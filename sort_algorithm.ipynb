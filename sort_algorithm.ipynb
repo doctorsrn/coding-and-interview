{
 "cells": [
  {
   "cell_type": "markdown",
   "metadata": {
    "colab_type": "text",
    "id": "ZEmmS2f_9Lvn"
   },
   "source": [
    "# 排序算法练习\n",
    "参考：\n",
    "+ http://www.cnblogs.com/kadycui/p/9771695.html  \n",
    "+ [微信分享](https://mp.weixin.qq.com/s?__biz=MzI0ODcxODk5OA==&mid=2247504216&idx=5&sn=8506d0520420a0f67575f680c9bbe4f6&chksm=e99ee2a1dee96bb730780449395e2b40811c7a46e0082c6ed139d64bbb6189458263d031191b&mpshare=1&scene=1&srcid=&key=b8eee84f54924e7c42b897e183c9f5d1eece34ed1b74ba0ff550764187fb59e90d49b3fe7204a92b1b805b480ea1ed3e50af04705a4ae7de635725da3e42d24754b56f5594932e411ea4aee42933a2d6&ascene=1&uin=Mjc2MTkzODE0MA%3D%3D&devicetype=Windows+8&version=62060739&lang=zh_CN&pass_ticket=uONyKlXV%2Fdx4qiWrFb5MGWC7hFc%2B%2B9qqKyrYYWm3I0RoRy%2FfKXpWdNmqgrp8paIh)\n"
   ]
  },
  {
   "cell_type": "markdown",
   "metadata": {
    "colab_type": "text",
    "id": "nd1AWbmJFYlP"
   },
   "source": [
    "## 1.插入排序\n",
    "将后续元素一个一个插入到前面已经排好序的有序序列中  \n",
    "算法复杂度$$O(n^2)$$"
   ]
  },
  {
   "cell_type": "code",
   "execution_count": 0,
   "metadata": {
    "colab": {
     "base_uri": "https://localhost:8080/",
     "height": 35
    },
    "colab_type": "code",
    "id": "eEIK1N1YFdTt",
    "outputId": "010eab62-e700-461b-c658-9d05cd4bc06a"
   },
   "outputs": [
    {
     "name": "stdout",
     "output_type": "stream",
     "text": [
      "insertSort [-1, 0, 0, 3, 9, 10]\n"
     ]
    }
   ],
   "source": [
    "def insertSort(arr):\n",
    "    length = len(arr)\n",
    "    for i in range(length):\n",
    "        k = i\n",
    "        for j in range(k,0,-1):\n",
    "            if arr[j]<arr[j-1]:    # 控制大小端\n",
    "                arr[j],arr[j-1]=arr[j-1],arr[j]\n",
    "    return arr\n",
    "\n",
    "def insertSort1(arr):\n",
    "    step = 1\n",
    "    for i in range(step, len(arr)):  # step=1时退化为插入排序\n",
    "        while i >= step and arr[i] < arr[i-step]:  # 控制大小端\n",
    "            arr[i], arr[i-step] = arr[i-step], arr[i]\n",
    "            i -= step\n",
    "    \n",
    "    return arr\n",
    "\n",
    "arr = [-1, 3, 0, 9, 10, 0]\n",
    "insertSort(arr)\n",
    "print('insertSort：',arr)"
   ]
  },
  {
   "cell_type": "markdown",
   "metadata": {
    "colab_type": "text",
    "id": "nfzPYuk5FsGX"
   },
   "source": [
    "## 2.[希尔排序](https://www.cnblogs.com/chengxiao/p/6104371.html)shell sort\n",
    "是简单插入排序的高效改进版，选择增量step序列，根据增量先从宏观上对数组进行排序  \n",
    "算法复杂度$$O(n^{1.3-2})$$"
   ]
  },
  {
   "cell_type": "code",
   "execution_count": 0,
   "metadata": {
    "colab": {
     "base_uri": "https://localhost:8080/",
     "height": 35
    },
    "colab_type": "code",
    "id": "Do6IcS0iUxWI",
    "outputId": "06786c6c-6fd7-46af-bee6-628e3d4e8ff1"
   },
   "outputs": [
    {
     "name": "stdout",
     "output_type": "stream",
     "text": [
      "shellSort： [-1, 0, 0, 3, 9, 10]\n"
     ]
    }
   ],
   "source": [
    "def shellSort(arr):\n",
    "    if len(arr) <= 1:\n",
    "        return arr\n",
    "    \n",
    "    step = len(arr) // 2\n",
    "    \n",
    "    while step > 0:\n",
    "        for i in range(step, len(arr)):  # step=1时退化为插入排序\n",
    "            while i >= step and arr[i] < arr[i-step]:  # 控制大小端\n",
    "                arr[i], arr[i-step] = arr[i-step], arr[i]\n",
    "                i -= step\n",
    "        step //= 2\n",
    "    \n",
    "    return arr\n",
    "\n",
    "  \n",
    "arr = [-1, 3, 0, 9, 10, 0]\n",
    "shellSort(arr)\n",
    "print('shellSort：',arr)"
   ]
  },
  {
   "cell_type": "markdown",
   "metadata": {
    "colab_type": "text",
    "id": "hrdZSymoRgee"
   },
   "source": [
    "## 3.简单选择排序\n",
    "遍历数组，选择最小或最大值从头开始交换  \n",
    "算法复杂度$$O(n^2)$$"
   ]
  },
  {
   "cell_type": "code",
   "execution_count": 0,
   "metadata": {
    "colab": {
     "base_uri": "https://localhost:8080/",
     "height": 35
    },
    "colab_type": "code",
    "id": "d70_TYG5RsNu",
    "outputId": "b12b631b-e351-4f8c-8f6b-b8a3c258e30b"
   },
   "outputs": [
    {
     "name": "stdout",
     "output_type": "stream",
     "text": [
      "selectSort： [-1, 0, 0, 3, 9, 10]\n"
     ]
    }
   ],
   "source": [
    "def selectSort(arr):\n",
    "    if len(arr) <= 1:\n",
    "        return arr\n",
    "    \n",
    "    for i in range(len(arr)-1):\n",
    "        min_index = i\n",
    "        for j in range(i+1, len(arr)):\n",
    "            if arr[j] < arr[min_index]:   # 控制大小端\n",
    "                min_index = j\n",
    "        if min_index != i:\n",
    "            arr[min_index], arr[i] = arr[i], arr[min_index]\n",
    "        \n",
    "        \n",
    "    return arr\n",
    "        \n",
    "    \n",
    "arr = [-1, 3, 0, 9, 10, 0]\n",
    "selectSort(arr)\n",
    "print('selectSort：',arr)"
   ]
  },
  {
   "cell_type": "markdown",
   "metadata": {
    "colab_type": "text",
    "id": "yZP-yTZQN-v_"
   },
   "source": [
    "## 4.冒泡排序\n",
    "算法复杂度$$O(n^2)$$"
   ]
  },
  {
   "cell_type": "code",
   "execution_count": 2,
   "metadata": {
    "colab": {
     "base_uri": "https://localhost:8080/",
     "height": 35
    },
    "colab_type": "code",
    "id": "55Ej-Htu_YdB",
    "outputId": "9a4a196b-7d4b-4a4d-8c1c-14cbf62d970a"
   },
   "outputs": [
    {
     "name": "stdout",
     "output_type": "stream",
     "text": [
      "bubbSort: [1, 2, 2, 2, 3, 4, 4, 5, 7, 9, 10, 12]\n"
     ]
    }
   ],
   "source": [
    "def bubbSort(arr):\n",
    "    if len(arr) <= 1:\n",
    "        return arr\n",
    "    for i in range(len(arr)-1):\n",
    "        for j in range(len(arr)-i-1):\n",
    "            if arr[j] > arr[j+1]:\n",
    "                #pass\n",
    "                arr[j], arr[j+1] = arr[j+1], arr[j]\n",
    "\n",
    "    return arr\n",
    "\n",
    "\n",
    "arr = [1,2,4,5,7,9,10,12,2,3,2,4] \n",
    "bubbSort(arr)\n",
    "print(\"bubbSort:\",arr)"
   ]
  },
  {
   "cell_type": "markdown",
   "metadata": {
    "colab_type": "text",
    "id": "PoE69Wgv9TH2"
   },
   "source": [
    "## 5.快速排序quick sort\n",
    "分治法思想，时间复杂度为$$O(nlog(n))$$"
   ]
  },
  {
   "cell_type": "code",
   "execution_count": 0,
   "metadata": {
    "colab": {
     "base_uri": "https://localhost:8080/",
     "height": 35
    },
    "colab_type": "code",
    "id": "nGpg8kdk9C2Z",
    "outputId": "36073976-8627-4fb7-e215-882cbceba50e"
   },
   "outputs": [
    {
     "name": "stdout",
     "output_type": "stream",
     "text": [
      "[-2, 0, 6, 9, 10]\n"
     ]
    }
   ],
   "source": [
    "def quickSort(arr, left, right):\n",
    "    # 递归终止条件\n",
    "    if left > right:\n",
    "        return []\n",
    "    \n",
    "    pivot = arr[left]\n",
    "    i = left\n",
    "    j = right\n",
    "    while i < j:\n",
    "        while i < j and arr[j] >= pivot:\n",
    "            j -= 1\n",
    "        while i < j and arr[i] <= pivot:\n",
    "            i += 1\n",
    "        if i < j:\n",
    "            arr[i], arr[j] = arr[j], arr[i]\n",
    "    # 此时arr的pivot两侧数分别小于和大于pivot\n",
    "    # 放入中心点\n",
    "    arr[left] = arr[i]\n",
    "    arr[i] = pivot\n",
    "    \n",
    "    # 递归调用，对pivot左右两边的list进行排序\n",
    "    quickSort(arr, left, i - 1)\n",
    "    quickSort(arr, i + 1, right)\n",
    "\n",
    "arr = [6, -2, 0, 9, 10]\n",
    "quickSort(arr,0, len(arr)-1)\n",
    "print(arr)\n",
    "\n"
   ]
  },
  {
   "cell_type": "code",
   "execution_count": 0,
   "metadata": {
    "colab": {
     "base_uri": "https://localhost:8080/",
     "height": 34
    },
    "colab_type": "code",
    "id": "hMGo30ftGlpJ",
    "outputId": "e9a7dc61-b6ac-44ef-b2dd-dc6fb82fa70c"
   },
   "outputs": [
    {
     "name": "stdout",
     "output_type": "stream",
     "text": [
      "[1, 2, 2, 2, 3, 4, 4, 5, 7, 9, 10, 12]\n"
     ]
    }
   ],
   "source": [
    "# # 更加简洁清晰的实现,这种实现对含有重复出现元素的数组排序将出错\n",
    "# def quickSort(arr):\n",
    "#   if arr:\n",
    "#     pivot = arr[0]  # 设定基准点\n",
    "#     big = [m for m in arr[1:] if m>=pivot]\n",
    "#     little = [m for m in arr if m<pivot]\n",
    "#     return quickSort(little)+[pivot]+quickSort(big)\n",
    "#   else:\n",
    "#     return []\n",
    "\n",
    "\n",
    "## 改进方法1，将重复出现的元素放入基准值左边或右边，这里放入较大值一边\n",
    "# def quickSort(arr):\n",
    "#   if arr:\n",
    "#     pivot = arr[0]  # 设定基准点\n",
    "#     big = [m for m in arr[1:] if m>=pivot]\n",
    "#     little = [m for m in arr if m<pivot]\n",
    "#     return quickSort(little)+[pivot]+quickSort(big)\n",
    "#   else:\n",
    "#     return []\n",
    "  \n",
    "## 改进方法2，引入重复数组，记录相等的基准值\n",
    "def quickSort(arr) -> list:\n",
    "    if arr:\n",
    "        pivot = arr[0]  # 设定基准点\n",
    "        big = [m for m in arr if m>pivot]\n",
    "        little = [m for m in arr if m<pivot]\n",
    "        equal = [m for m in arr if m==pivot]\n",
    "        return quickSort(little) + equal + quickSort(big)    # 控制大小端\n",
    "    else:\n",
    "        return []\n",
    "\n",
    "arr1 = [1,2,4,5,7,9,10,12,2,3,2,4]\n",
    "arr = quickSort(arr1)\n",
    "print(arr)"
   ]
  },
  {
   "cell_type": "markdown",
   "metadata": {
    "colab_type": "text",
    "id": "KaYV9JKKHu14"
   },
   "source": [
    "## 6. 堆排序HeapSort\n",
    "堆是具有以下性质的完全二叉树：每个结点的值都大于或等于其左右孩子结点的值，称为大顶堆；或者每个结点的值都小于或等于其左右孩子结点的值，称为小顶堆。\n",
    "\n",
    "基本思路：\n",
    "\n",
    "　　a.将无需序列构建成一个堆，根据升序降序需求选择大顶堆或小顶堆;\n",
    "\n",
    "　　b.将堆顶元素与末尾元素交换，将最大元素\"沉\"到数组末端;(升序方法)\n",
    "\n",
    "　　c.重新调整结构，使其满足堆定义，然后继续交换堆顶元素与当前末尾元素，反复执行调整+交换步骤，直到整个序列有序。\n",
    "\n",
    "算法复杂度为$$O(nlog(n))$$   \n",
    "\n",
    "\n",
    "[堆的定义](https://www.cnblogs.com/chengxiao/p/6129630.html)就是：\n",
    "\n",
    "大顶堆：arr[i] >= arr[2i+1] && arr[i] >= arr[2i+2]  \n",
    "\n",
    "小顶堆：arr[i] <= arr[2i+1] && arr[i] <= arr[2i+2]  \n",
    "\n",
    "\n",
    "堆的调整：  \n",
    "最后一个非叶子结点为 arr.length/2-1，从最后一个非叶子节点开始，从右至左，从下至上进行调整\n",
    "\n",
    "\n",
    "使用双向队列进行优化：https://www.jianshu.com/p/d174f1862601"
   ]
  },
  {
   "cell_type": "code",
   "execution_count": 0,
   "metadata": {
    "colab": {
     "base_uri": "https://localhost:8080/",
     "height": 35
    },
    "colab_type": "code",
    "id": "pBBTVCHWvHn1",
    "outputId": "0649f49e-02fb-4f64-a18d-0589e8930f18"
   },
   "outputs": [
    {
     "name": "stdout",
     "output_type": "stream",
     "text": [
      "[1, 2, 2, 2, 3, 4, 4, 5, 7, 9, 10, 12]\n"
     ]
    }
   ],
   "source": [
    "class HeapSort:\n",
    "    def heapSort(self, arr):\n",
    "        length = len(arr)\n",
    "        # 从后往前遍历，交换堆顶与最后叶子节点，并依次调整堆，重复操作\n",
    "        for i in range(length-1, 0, -1):\n",
    "            # 获取堆顶元素并调整堆\n",
    "            firstNum = self.adjustHeap(arr, i+1)\n",
    "            # 交换最后一个叶子节点与堆顶元素\n",
    "            arr[i], arr[0] = firstNum, arr[i]\n",
    "\n",
    "        return arr\n",
    "\n",
    "    # 调整堆，每次返回堆顶元素\n",
    "    def adjustHeap(self, arr, length):\n",
    "        # 最后一个非叶节点\n",
    "        i = length // 2 - 1\n",
    "        # 从最后一个非叶节点开始调整，构成最大堆\n",
    "        while i >= 0:\n",
    "            large = arr[i]  # 节点最大值\n",
    "            left = 2 * i + 1  # 左侧子节点\n",
    "            right = 2 * i + 2 # 右侧子节点\n",
    "\n",
    "            while left < length:\n",
    "                if right < length and arr[left] < arr[right]:\n",
    "                    left = right\n",
    "\n",
    "                if arr[left] > large:  # 从下往上调整\n",
    "                    arr[i] = arr[left]\n",
    "                    i = left  ## i的更新非常重要！！！\n",
    "                else:  # 当前节点和其子节点已满足大顶堆条件，所以break\n",
    "                    break\n",
    "\n",
    "                # 因为对父节点做了调整，所以要对父节点对应的子节点重新调整\n",
    "                left = 2 * left + 1\n",
    "                right = left + 1\n",
    "\n",
    "            arr[i] = large  # 将最大节点和原始节点交换\n",
    "            i -= 1  # 向前调整\n",
    "\n",
    "        return arr[0]\n",
    "\n",
    "\n",
    "s = HeapSort()\n",
    "nums = [1,2,4,5,7,9,10,12,2,3,2,4]\n",
    "t = s.heapSort(nums)\n",
    "print(t)"
   ]
  },
  {
   "cell_type": "markdown",
   "metadata": {
    "colab_type": "text",
    "id": "gQVX2Bbfuqr6"
   },
   "source": [
    "## 7.归并排序mergesort\n",
    "该算法是采用分治法（Divide and Conquer）的一个非常典型的应用。  \n",
    "分治法：\n",
    "+ 分： 将问题划分为很多小问题，拆分子序列，递归深度为log2n\n",
    "+ 治： 将每个小问题的解“修补”在一起\n",
    "\n",
    "作为一种典型的分而治之思想的算法应用，归并排序的实现由两种方法：\n",
    "\n",
    "+ 自上而下的递归（所有递归的方法都可以用迭代重写，所以就有了第 2 种方法）；\n",
    "+ 自下而上的迭代；\n",
    "\n",
    "需要额外的空间消耗，时间复杂度：$$O(nlogn)$$\n",
    "\n",
    "[算法步骤:  ](https://www.runoob.com/w3cnote/merge-sort.html)  \n",
    "1） 申请空间，使其大小为两个已经排序序列之和，该空间用来存放合并后的序列；\n",
    "\n",
    "2） 设定两个指针，最初位置分别为两个已经排序序列的起始位置；\n",
    "\n",
    "3） 比较两个指针所指向的元素，选择相对小的元素放入到合并空间，并移动指针到下一位置；\n",
    "\n",
    "4） 重复步骤 3 直到某一指针达到序列尾；\n",
    "\n",
    "5） 将另一序列剩下的所有元素直接复制到合并序列尾。\n",
    "\n",
    "\n",
    "很好的图解算法过程参考：https://www.cnblogs.com/chengxiao/p/6194356.html\n"
   ]
  },
  {
   "cell_type": "code",
   "execution_count": 0,
   "metadata": {
    "colab": {
     "base_uri": "https://localhost:8080/",
     "height": 35
    },
    "colab_type": "code",
    "id": "csxePCBQ0Wo9",
    "outputId": "7bc0cd00-5736-4282-b748-e07cb8b43ad5"
   },
   "outputs": [
    {
     "name": "stdout",
     "output_type": "stream",
     "text": [
      "mergeSort: [-2, -1, 0, 0, 0, 2, 3, 7, 9, 10, 32, 40]\n"
     ]
    }
   ],
   "source": [
    "#########################################\n",
    "#####      mergeSort               ##### \n",
    "#########################################\n",
    "def mergeSort(arr):\n",
    "    if len(arr) <= 1:\n",
    "        return arr  # 递归终止条件\n",
    "    \n",
    "    mid = len(arr) // 2\n",
    "    \n",
    "    # 分\n",
    "    left = mergeSort(arr[:mid])\n",
    "    right = mergeSort(arr[mid:])\n",
    "    \n",
    "    # 治\n",
    "    return merge(left, right)\n",
    "\n",
    "def merge(left, right):\n",
    "    i,j = 0,0\n",
    "    result = []  # 额外的空间消耗\n",
    "    \n",
    "    while i < len(left) and j < len(right):\n",
    "        if left[i] < right[j]:\n",
    "            result.append(left[i])\n",
    "            i += 1\n",
    "        else:\n",
    "            result.append(right[j])\n",
    "            j += 1\n",
    "        \n",
    "    if i < len(left):\n",
    "        result += left[i:]\n",
    "    if j < len(right):\n",
    "        result += right[j:]\n",
    "    \n",
    "    return result\n",
    "\n",
    "arr = [-1, 3, 0, 9, 10, 0, 2, 0, 7, -2, 40, 32]\n",
    "s = mergeSort(arr)\n",
    "print('mergeSort:',s) "
   ]
  },
  {
   "cell_type": "markdown",
   "metadata": {
    "colab_type": "text",
    "id": "UiqYZ-_DUReH"
   },
   "source": [
    "## 8.计数排序countingSort  \n",
    "计数排序要求输入的数据必须是有确定范围的整数。  \n",
    "放输入数据是n个0到k之间的整数时，时间复杂度为：$$O(n+k)$$  \n",
    "\n",
    " 算法的步骤如下：\n",
    "\n",
    "1）找出待排序的数组中最大和最小的元素  \n",
    "2）统计数组中每个值为i的元素出现的次数，存入数组C的第i项  \n",
    "3）对所有的计数累加（从C中的第一个元素开始，每一项和前一项相加）  \n",
    "4）反向填充目标数组：将每个元素i放在新数组的第C(i)项，每放一个元素就将C(i)减去1  \n",
    "\n",
    "第3) 4)步的目的是使得到的排序是稳定排序，即相等的元素相对位置不变。\n"
   ]
  },
  {
   "cell_type": "code",
   "execution_count": 0,
   "metadata": {
    "colab": {
     "base_uri": "https://localhost:8080/",
     "height": 35
    },
    "colab_type": "code",
    "id": "ulQ6uWUPOw8A",
    "outputId": "9c9bf43c-29e2-4017-a324-a8a09196418b"
   },
   "outputs": [
    {
     "name": "stdout",
     "output_type": "stream",
     "text": [
      "countingSort: [-2, -1, 0, 0, 0, 2, 3, 7, 9, 10, 32, 40]\n"
     ]
    }
   ],
   "source": [
    "def countingSort(arr):\n",
    "    \n",
    "    if len(arr) <= 1:\n",
    "        return arr\n",
    "    \n",
    "    max_arr = max(arr)\n",
    "    min_arr = min(arr)\n",
    "    \n",
    "    count_len = max_arr - min_arr + 1\n",
    "    count_arr = [0] * count_len\n",
    "    \n",
    "    result = [0] * len(arr)\n",
    "    \n",
    "    for i in arr:\n",
    "        count_arr[i - min_arr ] += 1\n",
    "    \n",
    "    for j in range(1,count_len):\n",
    "        count_arr[j] += count_arr[j-1] \n",
    "    \n",
    "    # 倒排写入结果，得到稳定排序结果\n",
    "    for k in arr[::-1]:\n",
    "        result[count_arr[k-min_arr] - 1] = k\n",
    "        count_arr[k-min_arr] -= 1\n",
    "    \n",
    "    return result\n",
    "        \n",
    "arr = [-1, 3, 0, 9, 10, 0, 2, 0, 7, -2, 40, 32]\n",
    "s = countingSort(arr)\n",
    "print('countingSort:',s) \n"
   ]
  },
  {
   "cell_type": "markdown",
   "metadata": {
    "colab_type": "text",
    "id": "McdgmBxCgZ6P"
   },
   "source": [
    "## 9.桶排序bucketSort\n",
    "桶排序是计数排序的升级版。它利用了函数的映射关系，高效与否的关键就在于这个映射函数的确定。为了使桶排序更加高效，我们需要做到这两点：  \n",
    "1） 在额外空间充足的情况下，尽量增大桶的数量  \n",
    "2） 使用的映射函数能够将输入的 N 个数据均匀的分配到 K 个桶中  \n",
    "同时，对于桶中元素的排序，选择何种比较排序算法对于性能的影响至关重要。\n",
    "\n",
    "最快的情况：输入的数据可以均匀的分配到每一个桶中。\n",
    "最慢的情况：输入的数据被分配到了同一个桶中。"
   ]
  },
  {
   "cell_type": "code",
   "execution_count": 0,
   "metadata": {
    "colab": {
     "base_uri": "https://localhost:8080/",
     "height": 53
    },
    "colab_type": "code",
    "id": "B0BjCkF8jGMB",
    "outputId": "302a970b-42d8-4aa2-8f1b-a96c62c48bc9"
   },
   "outputs": [
    {
     "name": "stdout",
     "output_type": "stream",
     "text": [
      "[8, 5, 5, 3, 2]\n",
      "[0.12, 0.2, 0.3, 0.46, 0.5]\n"
     ]
    }
   ],
   "source": [
    "# 和计数排序排序很像，下面是一个pythonic实现\n",
    "score=[5,3,5,2,8]\n",
    "a = [score.count(i) for i in range(11)]\n",
    "print([ i for i in range(10, 0, -1) for x in range(a[i])])\n",
    "\n",
    "\n",
    "# 针对均匀分布在[0,1]之间的数的桶排序\n",
    "class bucketSort(object):\n",
    "    def insertSort(self,a):\n",
    "        n=len(a)\n",
    "        if n<=1:\n",
    "            pass\n",
    "        for i in range(1,n):\n",
    "            key=a[i]\n",
    "            j=i-1\n",
    "            while key<a[j] and j>=0:\n",
    "                a[j+1]=a[j]\n",
    "                j-=1\n",
    "            a[j+1]=key\n",
    "    def sort(self,a):\n",
    "        n=len(a)\n",
    "        s=[[] for i in range(n)]\n",
    "        for i in a:\n",
    "            s[int(i*n)].append(i)\n",
    "        for i in s:\n",
    "            self.insertSort(i)\n",
    "        return [i for j in s for i in j]\n",
    "    def __call__(self,a):\n",
    "        return self.sort(a)\n",
    "\n",
    "    \n",
    "    \n",
    "arr = [0.2,0.3,0.5,0.12,0.46]\n",
    "a = bucketSort()\n",
    "print(a.sort(arr))"
   ]
  },
  {
   "cell_type": "markdown",
   "metadata": {
    "colab_type": "text",
    "id": "yToQYcRepx_q"
   },
   "source": [
    "## 10.基数排序radixSort\n",
    "典型整数排序算法，基数排序有两种方法：\n",
    "\n",
    "这三种排序算法都利用了桶的概念，但对桶的使用方法上有明显差异：\n",
    "\n",
    "+ 基数排序：根据键值的每位数字来分配桶；\n",
    "+ 计数排序：每个桶只存储单一键值；\n",
    "+ 桶排序：每个桶存储一定范围的数值；\n",
    "\n",
    "\n",
    "基数排序重要的两个过程：取每个数的每一位，然后按顺序放回。重复上述过程，直到所有数的各个位数均被取过。\n"
   ]
  },
  {
   "cell_type": "code",
   "execution_count": 0,
   "metadata": {
    "colab": {
     "base_uri": "https://localhost:8080/",
     "height": 143
    },
    "colab_type": "code",
    "id": "gYyIZc5jpw-L",
    "outputId": "7b4e2adc-4e6f-42a7-bb83-8956fdb2af6f"
   },
   "outputs": [
    {
     "name": "stdout",
     "output_type": "stream",
     "text": [
      "[[], [1], [], [23, 3453], [334, 4, 23424], [5, 345, 345345, 45], [], [67, 7], [78], [99]]\n",
      "[[1, 4, 5, 7], [], [23, 23424], [334], [345, 345345, 45], [3453], [67], [78], [], [99]]\n",
      "[[1, 4, 5, 7, 23, 45, 67, 78, 99], [], [], [334, 345, 345345], [23424, 3453], [], [], [], [], []]\n",
      "[[1, 4, 5, 7, 23, 45, 67, 78, 99, 334, 345], [], [], [23424, 3453], [], [345345], [], [], [], []]\n",
      "[[1, 4, 5, 7, 23, 45, 67, 78, 99, 334, 345, 3453], [], [23424], [], [345345], [], [], [], [], []]\n",
      "[[1, 4, 5, 7, 23, 45, 67, 78, 99, 334, 345, 3453, 23424], [], [], [345345], [], [], [], [], [], []]\n",
      "[1, 4, 5, 7, 23, 45, 67, 78, 99, 334, 345, 3453, 23424, 345345]\n"
     ]
    }
   ],
   "source": [
    "def radixSort(s):\n",
    "    \"\"\"基数排序\"\"\"\n",
    "    i = 0 # 记录当前正在排哪一位，最低位为1\n",
    "    max_num = max(s)  # 最大值\n",
    "    j = len(str(max_num))  # 记录最大值的位数\n",
    "    while i < j:\n",
    "        bucket_list =[[] for _ in range(10)] #初始化桶数组\n",
    "        for x in s:\n",
    "            bucket_list[int(x / (10**i)) % 10].append(x) # 找到位置放入桶数组\n",
    "        # print(bucket_list)\n",
    "        s.clear()\n",
    "        for x in bucket_list:   # 放回原序列\n",
    "            for y in x:\n",
    "                s.append(y)\n",
    "        i += 1\n",
    "    return s\n",
    "\n",
    "a = [334,5,67,345,7,345345,99,4,23,78,45,1,3453,23424]\n",
    "res = radixSort(a)\n",
    "print(res)"
   ]
  },
  {
   "cell_type": "markdown",
   "metadata": {
    "colab_type": "text",
    "id": "J3rItZC7Uzpv"
   },
   "source": [
    "# leetcode"
   ]
  },
  {
   "cell_type": "markdown",
   "metadata": {
    "colab_type": "text",
    "id": "3hK2A3lnU3IB"
   },
   "source": [
    "## 最大乘积子串\n",
    "[leetcode](https://leetcode.com/problems/maximum-product-subarray/)  \n",
    "\n",
    "[leetcode-cn](https://leetcode-cn.com/problems/maximum-product-subarray/)"
   ]
  },
  {
   "cell_type": "code",
   "execution_count": 0,
   "metadata": {
    "colab": {
     "base_uri": "https://localhost:8080/",
     "height": 53
    },
    "colab_type": "code",
    "id": "B4gYfkTZU2Ul",
    "outputId": "c0d1dc25-6439-4f12-8f3b-335869d1d021"
   },
   "outputs": [
    {
     "name": "stdout",
     "output_type": "stream",
     "text": [
      "6\n",
      "0\n"
     ]
    }
   ],
   "source": [
    "# 暴力解法---超时警告:(\n",
    "class Solution:\n",
    "    def multi(self, arr):\n",
    "        result = 1\n",
    "        if arr:\n",
    "            for x in arr:\n",
    "                result *= x\n",
    "        return result\n",
    "    \n",
    "    def maxProduct(self, nums: list) -> int:\n",
    "        maxP = -10000\n",
    "        arr_sub = None\n",
    "        for length in range(1, len(nums)+1):\n",
    "            for start in range(len(nums) - length +1):\n",
    "                arr_s = nums[start:start+length]\n",
    "                if len(arr_s) > 0:\n",
    "                  #print(arr_s)\n",
    "                  result = self.multi(arr_s)\n",
    "                  #print(result)\n",
    "                  if result > maxP:\n",
    "                        maxP = result\n",
    "                        arr_sub = arr_s\n",
    "                else:\n",
    "                    continue\n",
    "                \n",
    "        return maxP\n",
    "      \n",
    "solution = Solution()\n",
    "\n",
    "a = [2,3,-2,4]\n",
    "mp = solution.maxProduct(a)\n",
    "\n",
    "print(mp)\n",
    "\n",
    "a = [-2,0,-1]\n",
    "mp = solution.maxProduct(a)\n",
    "print(mp)"
   ]
  },
  {
   "cell_type": "markdown",
   "metadata": {
    "colab_type": "text",
    "id": "YPIUXGP5eGnn"
   },
   "source": [
    "动态规划法：   \n",
    "```\n",
    "max = max(curr*last-max,curr*last-min,curr)   \n",
    "min =  min(curr*last-max,curr*last-min,curr)\n",
    "\n",
    "\t\tdp(i) =  max(dp(i-1)[0]*arr[i],dp(i-1)[1]*arr[i],arr[i]))\n",
    "```"
   ]
  },
  {
   "cell_type": "code",
   "execution_count": 0,
   "metadata": {
    "colab": {
     "base_uri": "https://localhost:8080/",
     "height": 68
    },
    "colab_type": "code",
    "id": "XecquxQ2YraG",
    "outputId": "8c5eea53-82af-4643-ee60-40d32e9a39ee"
   },
   "outputs": [
    {
     "name": "stdout",
     "output_type": "stream",
     "text": [
      "20\n",
      "0\n",
      "0\n"
     ]
    }
   ],
   "source": [
    "# 动态规划法\n",
    "import sys\n",
    "class Solution(object):\n",
    "    def maxProduct(self, nums):\n",
    "        \"\"\"\n",
    "        :type nums: List[int]\n",
    "        :rtype: int\n",
    "        \"\"\"\n",
    "        m = [-sys.maxsize-1]\n",
    "        def dp(i):\n",
    "            \n",
    "            if i == 0:\n",
    "                m[0] = max(m[0],nums[i])\n",
    "                return nums[i],nums[i]\n",
    "            else:\n",
    "                \n",
    "                \n",
    "                prev = dp(i-1)\n",
    "                mi = min(nums[i],nums[i]*prev[0],nums[i]*prev[1])\n",
    "                \n",
    "                ma = max(nums[i],nums[i]*prev[0],nums[i]*prev[1])\n",
    "                m[0] = max(m[0],ma)\n",
    "                \n",
    "                return mi,ma\n",
    "        \n",
    "        dp(len(nums)-1)[1]\n",
    "        \n",
    "        return m[0]\n",
    "      \n",
    "# O(1) space    \n",
    "# 动态规划法二\n",
    "    def maxProduct1(self, nums):\n",
    "        if not nums:\n",
    "            return \n",
    "        locMin = locMax = gloMax = nums[0]\n",
    "        for i in range(1, len(nums)):\n",
    "            tmp = locMin\n",
    "            locMin = min(locMin*nums[i], nums[i], locMax*nums[i])\n",
    "            locMax = max(tmp*nums[i], nums[i], locMax*nums[i])\n",
    "            gloMax = max(gloMax, locMax)\n",
    "        return gloMax\n",
    "\n",
    "solution = Solution()\n",
    "\n",
    "a = [2,3,-2,4,5]\n",
    "mp = solution.maxProduct(a)\n",
    "\n",
    "print(mp)\n",
    "\n",
    "a = [-2,0,-1]\n",
    "mp = solution.maxProduct(a)\n",
    "print(mp)\n",
    "\n",
    "print(solution.maxProduct1(a))"
   ]
  },
  {
   "cell_type": "code",
   "execution_count": 0,
   "metadata": {
    "colab": {},
    "colab_type": "code",
    "id": "ZJ5dh3I9rBNr"
   },
   "outputs": [],
   "source": [
    "# 运行时间优于99%\n",
    "class Solution:\n",
    "    def maxProduct(self, nums: List[int]) -> int:\n",
    "        if len(nums) == 1:\n",
    "            return nums[0]\n",
    "        elif len(nums) == 0:\n",
    "            return 0\n",
    "        def calProduct(nums):\n",
    "            if len(nums) == 0:\n",
    "                return 0\n",
    "            res = 1\n",
    "            for i in range(len(nums)):\n",
    "                res *= nums[i]\n",
    "            return res\n",
    "        \n",
    "        num_list = []\n",
    "        if nums.count(0) != 0:  # split the List by 0\n",
    "            while(nums.count(0) != 0):\n",
    "                ind = nums.index(0)  # index of first 0\n",
    "                if ind == 0:\n",
    "                    nums.pop(0)  # pop the first element\n",
    "                elif ind == len(nums) - 1:\n",
    "                    nums.pop()\n",
    "                else:\n",
    "                    num_list.append(nums[:ind])\n",
    "                    nums = nums[ind+1:]\n",
    "            num_list.append(nums)\n",
    "            res = 0\n",
    "            for nums_e in num_list:\n",
    "                res = max(res, self.maxProduct(nums_e))\n",
    "            return res\n",
    "        # Now there's no 0 in nums\n",
    "        neg_ind = []\n",
    "        for i in range(len(nums)):\n",
    "            if nums[i] < 0:\n",
    "                neg_ind.append(i)\n",
    "        l_neg = len(neg_ind)\n",
    "        if l_neg % 2 == 0:  # even\n",
    "            return calProduct(nums)\n",
    "        else:  # odd\n",
    "            if l_neg == 1:\n",
    "                return max(calProduct(nums[:neg_ind[0]]), calProduct(nums[neg_ind[0]+1:]))\n",
    "            else:\n",
    "                return max(calProduct(nums[:neg_ind[0]]), calProduct(nums[neg_ind[0]+1:]), calProduct(nums[:neg_ind[l_neg-1]]), calProduct(nums[neg_ind[l_neg-1]+1:]))"
   ]
  }
 ],
 "metadata": {
  "colab": {
   "collapsed_sections": [],
   "name": "code for interview.ipynb",
   "provenance": [],
   "version": "0.3.2"
  },
  "kernelspec": {
   "display_name": "Python 3",
   "language": "python",
   "name": "python3"
  },
  "language_info": {
   "codemirror_mode": {
    "name": "ipython",
    "version": 3
   },
   "file_extension": ".py",
   "mimetype": "text/x-python",
   "name": "python",
   "nbconvert_exporter": "python",
   "pygments_lexer": "ipython3",
   "version": "3.6.8"
  }
 },
 "nbformat": 4,
 "nbformat_minor": 1
}
